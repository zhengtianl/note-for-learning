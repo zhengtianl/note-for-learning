{
 "cells": [
  {
   "attachments": {},
   "cell_type": "markdown",
   "metadata": {},
   "source": [
    "sorted() 函数：\n",
    "描述：\n",
    "sorted() 函数对所有可迭代的对象进行排序操作。\n",
    "\n",
    "sort 与 sorted 区别：\n",
    "sort 是 list 的一个方法，而 sorted 可以对所有可迭代的对象进行排序操作。\n",
    "list 的 sort 方法返回的是对已经存在的列表进行操作，无返回值，而内建函数 sorted 方法返回的是一个新的 list，而不是在原来的基础上进行的操作。\n",
    "\n",
    "语法：\n",
    "sorted(iterable[, cmp[, key[, reverse]]])\n",
    "参数说明：\n",
    "iterable  ----> 可迭代对象。\n",
    "cmp       ----> 比较的函数，这个具有两个参数，参数的值都是从可迭代对象中取出，此函数必须遵守的规则为，大于则返回1，小于则返回-1，等于则返回0。\n",
    "key        ----> 主要是用来进行比较的元素，只有一个参数，具体的函数的参数就是取自于可迭代对象中，指定可迭代对象中的一个元素来进行排序。\n",
    "reverse  ----> 排序规则，reverse = True 降序 ， reverse = False 升序（默认）。\n",
    "返回值：\n",
    "返回重新排序的列表。\n"
   ]
  },
  {
   "cell_type": "code",
   "execution_count": null,
   "metadata": {},
   "outputs": [],
   "source": [
    "# ===========一般用法：===========\n",
    "# 1、简单排序\n",
    "a = [5,7,6,3,4,1,2]\n",
    "b = sorted(a)       # 使用sorted，保留原列表，不改变列表a的值\n",
    "print(a)\n",
    "[5, 7, 6, 3, 4, 1, 2]\n",
    "print(b)\n",
    "[1, 2, 3, 4, 5, 6, 7]\n",
    "\n",
    "# ===========匿名函数用法：===========\n",
    "L=[('b',2),('a',1),('c',3),('d',4)]\n",
    "# 2、利用参数 cmp 排序\n",
    "sorted(L, cmp=lambda x,y:cmp(x[1],y[1]))\n",
    "# 结果：\n",
    "[('a', 1), ('b', 2), ('c', 3), ('d', 4)]\n",
    "# 3、利用参数 key 排序\n",
    "sorted(L, key=lambda x:x[1])\n",
    "# 结果：\n",
    "[('a', 1), ('b', 2), ('c', 3), ('d', 4)]\n",
    "\n",
    "# 4、按年龄升序\n",
    "students = [('john', 'A', 15), ('jane', 'B', 12), ('dave', 'B', 10)]\n",
    "sorted(students, key=lambda s: s[2])\n",
    "# 结果：\n",
    "[('dave', 'B', 10), ('jane', 'B', 12), ('john', 'A', 15)]\n",
    "# 5、按年龄降序\n",
    "sorted(students, key=lambda s: s[2], reverse=True)\n",
    "# 结果：\n",
    "[('john', 'A', 15), ('jane', 'B', 12), ('dave', 'B', 10)]\n"
   ]
  }
 ],
 "metadata": {
  "kernelspec": {
   "display_name": "base",
   "language": "python",
   "name": "python3"
  },
  "language_info": {
   "name": "python",
   "version": "3.9.7 (default, Sep 16 2021, 16:59:28) [MSC v.1916 64 bit (AMD64)]"
  },
  "orig_nbformat": 4,
  "vscode": {
   "interpreter": {
    "hash": "779ba827754c529a7c11c6bab79cacaaad2e68b57587cd4f2cc67c763b28ad59"
   }
  }
 },
 "nbformat": 4,
 "nbformat_minor": 2
}
